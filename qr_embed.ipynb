{
 "cells": [
  {
   "cell_type": "code",
   "execution_count": 1,
   "metadata": {},
   "outputs": [],
   "source": [
    "import cv2\n",
    "import numpy as np\n",
    "import qrcode\n",
    "from PIL import Image\n",
    "from pyzbar.pyzbar import decode"
   ]
  },
  {
   "cell_type": "markdown",
   "metadata": {},
   "source": [
    "1. provide image path\n",
    "2. provide qr code data. Can be a `str` or `dict`\n",
    "3. provide path for embedded image\n",
    "\n",
    "*note: the image must be at least 512 x 512 in size. this is due to the limits of the coefficients after inverting the image, which is an inevitably a lossy process and therefor, requires a larger qr code to be generated. This setting can be changed by altering the `qr_code_size` parameter within the `generate_qr_code` function, however, in my limited "
   ]
  },
  {
   "cell_type": "code",
   "execution_count": 2,
   "metadata": {},
   "outputs": [],
   "source": [
    "image = '/Users/wm/Code/projects/watermark/images/original_images/beach.jpeg'\n",
    "qr_code_data = 'https://example.com'"
   ]
  },
  {
   "cell_type": "markdown",
   "metadata": {},
   "source": [
    "Crops or pads the image to ensure its dimensions are divisible by 8."
   ]
  },
  {
   "cell_type": "code",
   "execution_count": 3,
   "metadata": {},
   "outputs": [],
   "source": [
    "def crop_or_pad_image_to_divisible_by_8(image):\n",
    "\n",
    "    height, width, _ = image.shape\n",
    "    new_height = (height // 8) * 8\n",
    "    new_width = (width // 8) * 8\n",
    "    return image[:new_height, :new_width]"
   ]
  },
  {
   "cell_type": "code",
   "execution_count": 4,
   "metadata": {},
   "outputs": [],
   "source": [
    "original_image = cv2.imread(image)\n",
    "original_image = crop_or_pad_image_to_divisible_by_8(original_image)"
   ]
  },
  {
   "cell_type": "markdown",
   "metadata": {},
   "source": [
    "Generates a tiled QR code image that covers the entire image size."
   ]
  },
  {
   "cell_type": "code",
   "execution_count": 20,
   "metadata": {},
   "outputs": [],
   "source": [
    "def generate_tiled_qr_code(data, image_width, image_height, qr_code_size=512):\n",
    "    \n",
    "    qr = qrcode.QRCode(error_correction=qrcode.constants.ERROR_CORRECT_H)\n",
    "    qr.add_data(data)\n",
    "    qr.make(fit=True)\n",
    "    qr_image = qr.make_image(fill='black', back_color='white').convert('L')\n",
    "    qr_image = qr_image.resize((qr_code_size, qr_code_size))\n",
    "    \n",
    "    # Create a blank canvas to hold the tiled QR codes\n",
    "    tiled_qr_image = Image.new('L', (image_width, image_height), color=255)\n",
    "    \n",
    "    # Tile the QR code across the canvas\n",
    "    num_qr_x = image_width // qr_code_size\n",
    "    num_qr_y = image_height // qr_code_size\n",
    "    \n",
    "    for i in range(num_qr_y):\n",
    "        for j in range(num_qr_x):\n",
    "            x_offset = j * qr_code_size\n",
    "            y_offset = i * qr_code_size\n",
    "            tiled_qr_image.paste(qr_image, (x_offset, y_offset))\n",
    "\n",
    "    tiled_qr_image.save('tiled_qr_image.png')\n",
    "    \n",
    "    return tiled_qr_image"
   ]
  },
  {
   "cell_type": "code",
   "execution_count": 6,
   "metadata": {},
   "outputs": [],
   "source": [
    "image_height, image_width, _ = original_image.shape\n",
    "tiled_qr_image = generate_tiled_qr_code(qr_code_data, image_width, image_height)"
   ]
  },
  {
   "cell_type": "markdown",
   "metadata": {},
   "source": [
    "Applies DCT to the Y channel of the image (in YCrCb color space)."
   ]
  },
  {
   "cell_type": "code",
   "execution_count": 7,
   "metadata": {},
   "outputs": [],
   "source": [
    "def apply_dct(image):\n",
    "    \n",
    "    ycrcb = cv2.cvtColor(image, cv2.COLOR_BGR2YCrCb)\n",
    "    y, cr, cb = cv2.split(ycrcb)\n",
    "    \n",
    "    dct_blocks = np.zeros_like(y, dtype=np.float32)\n",
    "    height, width = y.shape\n",
    "    \n",
    "    # Apply DCT block-wise\n",
    "    for i in range(0, height, 8):\n",
    "        for j in range(0, width, 8):\n",
    "            block = y[i:i+8, j:j+8]\n",
    "            dct_blocks[i:i+8, j:j+8] = cv2.dct(np.float32(block))\n",
    "    \n",
    "    return dct_blocks, ycrcb"
   ]
  },
  {
   "cell_type": "code",
   "execution_count": 8,
   "metadata": {},
   "outputs": [],
   "source": [
    "dct_blocks, ycrcb = apply_dct(original_image)"
   ]
  },
  {
   "cell_type": "markdown",
   "metadata": {},
   "source": [
    "Embeds a tiled QR code image into the DCT coefficients of the Y channel."
   ]
  },
  {
   "cell_type": "code",
   "execution_count": 9,
   "metadata": {},
   "outputs": [],
   "source": [
    "def embed_tiled_qr_in_dct(dct_blocks, tiled_qr_image, embed_strength=25.0):\n",
    "    \n",
    "    qr_data = np.array(tiled_qr_image)\n",
    "    qr_data = np.where(qr_data > 128, 1, 0)\n",
    "    \n",
    "    height, width = dct_blocks.shape\n",
    "    \n",
    "    for i in range(0, height, 8):\n",
    "        for j in range(0, width, 8):\n",
    "            qr_bit = qr_data[i, j]\n",
    "            block_dct = dct_blocks[i:i+8, j:j+8]\n",
    "            \n",
    "            # Embed QR code bits into DCT high-frequency coefficients\n",
    "            if qr_bit == 1:\n",
    "                block_dct[5, 5] += embed_strength * 0.8\n",
    "                block_dct[6, 6] += embed_strength * 1.0\n",
    "                block_dct[7, 7] += embed_strength * 0.5\n",
    "            else:\n",
    "                block_dct[5, 5] -= embed_strength * 0.8\n",
    "                block_dct[6, 6] -= embed_strength * 1.0\n",
    "                block_dct[7, 7] -= embed_strength * 0.5\n",
    "    \n",
    "    return dct_blocks"
   ]
  },
  {
   "cell_type": "code",
   "execution_count": 10,
   "metadata": {},
   "outputs": [],
   "source": [
    "dct_blocks = embed_tiled_qr_in_dct(dct_blocks, tiled_qr_image)"
   ]
  },
  {
   "cell_type": "markdown",
   "metadata": {},
   "source": [
    "Applies Inverse DCT and reconstructs the image in the spatial domain."
   ]
  },
  {
   "cell_type": "code",
   "execution_count": 11,
   "metadata": {},
   "outputs": [],
   "source": [
    "def inverse_dct_and_save(dct_blocks, ycrcb, output_filename='watermarked_image.jpg'):\n",
    "\n",
    "    y, cr, cb = cv2.split(ycrcb)\n",
    "    height, width = dct_blocks.shape\n",
    "\n",
    "    for i in range(0, height, 8):\n",
    "        for j in range(0, width, 8):\n",
    "            block = dct_blocks[i:i+8, j:j+8]\n",
    "            y[i:i+8, j:j+8] = cv2.idct(block)\n",
    "    \n",
    "    watermarked_image = cv2.cvtColor(cv2.merge([y, cr, cb]), cv2.COLOR_YCrCb2BGR)\n",
    "    cv2.imwrite(output_filename, watermarked_image)\n",
    "    return watermarked_image"
   ]
  },
  {
   "cell_type": "code",
   "execution_count": 12,
   "metadata": {},
   "outputs": [],
   "source": [
    "watermarked_image = inverse_dct_and_save(dct_blocks, ycrcb)"
   ]
  },
  {
   "cell_type": "markdown",
   "metadata": {},
   "source": [
    "Compare the Y channels (luminance) of the original and watermarked images."
   ]
  },
  {
   "cell_type": "code",
   "execution_count": 13,
   "metadata": {},
   "outputs": [],
   "source": [
    "def compare_y_channels(original_image, watermarked_image):\n",
    "\n",
    "    ycrcb_original = cv2.cvtColor(original_image, cv2.COLOR_BGR2YCrCb)\n",
    "    ycrcb_watermarked = cv2.cvtColor(watermarked_image, cv2.COLOR_BGR2YCrCb)\n",
    "    \n",
    "    y_original, _, _ = cv2.split(ycrcb_original)\n",
    "    y_watermarked, _, _ = cv2.split(ycrcb_watermarked)\n",
    "    \n",
    "    # Calculate the absolute difference between the Y channels\n",
    "    y_difference = cv2.absdiff(y_original, y_watermarked)\n",
    "\n",
    "    return y_difference"
   ]
  },
  {
   "cell_type": "code",
   "execution_count": 14,
   "metadata": {},
   "outputs": [],
   "source": [
    "y_diff = compare_y_channels(original_image, watermarked_image)"
   ]
  },
  {
   "cell_type": "code",
   "execution_count": 15,
   "metadata": {},
   "outputs": [],
   "source": [
    "import matplotlib.pyplot as plt\n",
    "\n",
    "def visualize_y_diff(y_diff):\n",
    "    plt.imshow(y_diff, cmap='gray')\n",
    "    plt.title(\"Y Channel Differences\")\n",
    "    plt.show()\n",
    "\n",
    "# Visualize the Y differences\n",
    "# visualize_y_diff(y_diff)"
   ]
  },
  {
   "cell_type": "markdown",
   "metadata": {},
   "source": [
    "Extracts the QR code based on the differences in the Y channels."
   ]
  },
  {
   "cell_type": "code",
   "execution_count": 16,
   "metadata": {},
   "outputs": [],
   "source": [
    "def extract_qr_from_dct_with_diff(dct_blocks, y_diff, threshold=0.00001):\n",
    "    \n",
    "    height, width = dct_blocks.shape\n",
    "    qr_extracted = np.zeros((height // 8, width // 8), dtype=np.uint8)\n",
    "\n",
    "    for i in range(0, height, 8):\n",
    "        for j in range(0, width, 8):\n",
    "            # print(f\"Checking block ({i}, {j}) with Y-diff value: {y_diff[i, j]}\")\n",
    "            if y_diff[i, j] > threshold:\n",
    "                qr_bit = 1 if dct_blocks[i:i+8, j:j+8][6, 6] > 0 else 0\n",
    "                qr_extracted[i // 8, j // 8] = qr_bit\n",
    "                # print(f\"Extracting QR bit at block ({i // 8}, {j // 8}): {qr_bit}\")\n",
    "    \n",
    "    # Convert the binary QR data into an image\n",
    "    qr_image = Image.fromarray((qr_extracted * 255).astype(np.uint8))\n",
    "    qr_image.save(\"extracted_qr_code.png\")\n",
    "    return qr_image"
   ]
  },
  {
   "cell_type": "code",
   "execution_count": 17,
   "metadata": {},
   "outputs": [],
   "source": [
    "extracted_qr_code = extract_qr_from_dct_with_diff(dct_blocks, y_diff)"
   ]
  },
  {
   "cell_type": "markdown",
   "metadata": {},
   "source": [
    "Verifies and decodes each QR tile from the extracted QR image."
   ]
  },
  {
   "cell_type": "code",
   "execution_count": 18,
   "metadata": {},
   "outputs": [],
   "source": [
    "def verify_qr_tiles(extracted_qr_image, qr_code_size=256):\n",
    "    decoded_data = []\n",
    "    width, height = extracted_qr_image.size\n",
    "    for i in range(0, height, qr_code_size):\n",
    "        for j in range(0, width, qr_code_size):\n",
    "            qr_tile = extracted_qr_image.crop((j, i, j + qr_code_size, i + qr_code_size))\n",
    "            decoded = decode(qr_tile)\n",
    "            if decoded:\n",
    "                decoded_data.append(decoded[0].data.decode('utf-8'))\n",
    "    return decoded_data"
   ]
  },
  {
   "cell_type": "code",
   "execution_count": 19,
   "metadata": {},
   "outputs": [
    {
     "name": "stdout",
     "output_type": "stream",
     "text": [
      "['https://example.com', 'https://example.com', 'https://example.com', 'https://example.com']\n"
     ]
    }
   ],
   "source": [
    "decoded_qr_data = verify_qr_tiles(extracted_qr_code)\n",
    "print(decoded_qr_data)"
   ]
  }
 ],
 "metadata": {
  "kernelspec": {
   "display_name": "venv",
   "language": "python",
   "name": "python3"
  },
  "language_info": {
   "codemirror_mode": {
    "name": "ipython",
    "version": 3
   },
   "file_extension": ".py",
   "mimetype": "text/x-python",
   "name": "python",
   "nbconvert_exporter": "python",
   "pygments_lexer": "ipython3",
   "version": "3.12.5"
  }
 },
 "nbformat": 4,
 "nbformat_minor": 2
}
